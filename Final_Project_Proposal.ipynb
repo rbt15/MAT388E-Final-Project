{
 "cells": [
  {
   "cell_type": "markdown",
   "metadata": {},
   "source": [
    "# **Yet another movie recommendation system**\n",
    "\n",
    "---\n",
    "\n",
    "## Team Members:\n",
    "- Kıraç Acar Apaydın - 090190745 - apaydink19@itu.edu.tr\n",
    "- Berkkan Bütün - 090180349 - butun18@itu.edu.tr\n",
    "\n",
    "---\n",
    "\n",
    "## Datasets\n",
    "\n",
    "We will use the following datasets:\n",
    "\n",
    "* [The Movies Dataset](https://www.kaggle.com/datasets/rounakbanik/the-movies-dataset)\n",
    "* [TMDB 5000 Movie Dataset](https://www.kaggle.com/datasets/tmdb/tmdb-movie-metadata)\n",
    "\n",
    "The first dataset contains information about 45,000 movies and 26,000 users from MovieLens and contains 26 million ratings. The second dataset contains information about 4800 movies and 5000 credits from TMDB.\n",
    "\n",
    "The Movies Dataset contains the following information about the movies:\n",
    "- movies_metadata.csv: The main Movies Metadata file. Contains information on 45,000 movies featured in the Full MovieLens dataset. Features include posters, backdrops, budget, revenue, release dates, languages, production countries and companies.\n",
    "\n",
    "- keywords.csv: Contains the movie plot keywords for our MovieLens movies. Available in the form of a stringified JSON Object.\n",
    "\n",
    "- credits.csv: Consists of Cast and Crew Information for all our movies. Available in the form of a stringified JSON Object.\n",
    "\n",
    "- links.csv: The file that contains the TMDB and IMDB IDs of all the movies featured in the Full MovieLens dataset.\n",
    "\n",
    "- links_small.csv: Contains the TMDB and IMDB IDs of a small subset of 9,000 movies of the Full Dataset.\n",
    "\n",
    "- ratings_small.csv: The subset of 100,000 ratings from 700 users on 9,000 movies.\n",
    "  \n",
    "---"
   ]
  },
  {
   "cell_type": "markdown",
   "metadata": {},
   "source": [
    "## Problem Statement\n",
    "\n",
    "We will try to build a movie recommendation system that will recommend movies to users based on their preferences. We will use the ratings given by the users to the movies to build a [collaborative filtering](https://developers.google.com/machine-learning/recommendation/collaborative/basics?hl=en) model. We will also use the information about the movies to build a [content-based](https://developers.google.com/machine-learning/recommendation/content-based/basics?hl=en) filtering model.\n",
    "\n",
    "We expect to be able to recommend movies to users based on their preferences. We will also try to find out which movies are similar to each other and which movies are similar to a given movie.\n",
    "\n",
    "---\n",
    "\n",
    "## Roadmap\n",
    "\n",
    "We may use the following methods to build our recommendation system:\n",
    "- Logistic Regression for classification of the movies, whether the user is interested or not based on the movie's metadata.\n",
    "- [SVD](https://surprise.readthedocs.io/en/stable/matrix_factorization.html#surprise.prediction_algorithms.matrix_factorization.SVD) algorithm for collaborative filtering.\n",
    "  \n",
    "---\n",
    "\n",
    "## Contributions\n",
    "\n",
    "- Proposal: we have written the proposal together.\n",
    "\n",
    "- Kıraç Acar Apaydın: Data preprocessing, data analysis, content-based filtering, evaluation of the models, presentation.\n",
    "- Berkkan Bütün: Data preprocessing, data analysis, collaborative filtering, evaluation of the models, presentation.\n",
    "\n",
    "- Report: we will write the report together.\n",
    "\n",
    "We will work on the essential parts of the project together. But we will also work on the parts that we are more interested in separately. Kıraç Acar Apaydın will work on the content-based filtering part and Berkkan Bütün will work on the collaborative filtering part."
   ]
  },
  {
   "cell_type": "markdown",
   "metadata": {},
   "source": [
    "## Atabey's notes\n",
    "\n",
    "I like the datasets. I also like the fact that you are using several data sources for your project. However, you must provide a sample of the datasets and explain what columns/pieces they contain. You datasets primarily are text datasets. You must explain how you intend to engineer new features to make your datasets more suitable for standard ML algorithms.\n",
    "\n",
    "You also need to write a detailed Methods section. In this section you must explain what available ML algorithms are there suitable for your needs. Which algorithms are you going to choose? Why? How are these ML algorithms going to help you to answer these questions and test your hypotheses? How are you going to test if your experiments and results support or contradict the hypothesis you have given?\n",
    "\n",
    "Also you must provide a calendar: what are you going to do and when with some explanations: what do you mean by preprocessing, content based filtering, collaborative filtering, evaluation of the models?"
   ]
  },
  {
   "cell_type": "code",
   "execution_count": null,
   "metadata": {},
   "outputs": [],
   "source": []
  }
 ],
 "metadata": {
  "kernelspec": {
   "display_name": "Python 3 (ipykernel)",
   "language": "python",
   "name": "python3"
  },
  "language_info": {
   "codemirror_mode": {
    "name": "ipython",
    "version": 3
   },
   "file_extension": ".py",
   "mimetype": "text/x-python",
   "name": "python",
   "nbconvert_exporter": "python",
   "pygments_lexer": "ipython3",
   "version": "3.10.8"
  }
 },
 "nbformat": 4,
 "nbformat_minor": 4
}
